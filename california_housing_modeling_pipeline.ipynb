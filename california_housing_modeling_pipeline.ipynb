{
 "cells": [
  {
   "cell_type": "markdown",
   "id": "71064c9a",
   "metadata": {},
   "source": [
    "# 🏠 California Housing Price Prediction\n",
    "Using Linear Regression and Random Forest"
   ]
  },
  {
   "cell_type": "code",
   "execution_count": null,
   "id": "887cb575",
   "metadata": {},
   "outputs": [],
   "source": [
    "# 📦 Import libraries\n",
    "import pandas as pd\n",
    "import numpy as np\n",
    "import matplotlib.pyplot as plt\n",
    "import seaborn as sns\n",
    "from sklearn.datasets import fetch_california_housing\n",
    "from sklearn.model_selection import train_test_split\n",
    "from sklearn.linear_model import LinearRegression\n",
    "from sklearn.ensemble import RandomForestRegressor\n",
    "from sklearn.metrics import mean_squared_error, r2_score\n"
   ]
  },
  {
   "cell_type": "code",
   "execution_count": null,
   "id": "f91e52f7",
   "metadata": {},
   "outputs": [],
   "source": [
    "# 📥 Load data\n",
    "data = fetch_california_housing(as_frame=True)\n",
    "df = data.data.copy()\n",
    "df['target'] = data.target\n",
    "df.head()\n"
   ]
  },
  {
   "cell_type": "markdown",
   "id": "6c63c455",
   "metadata": {},
   "source": [
    "## 🔍 EDA - Heatmap & Distribution"
   ]
  },
  {
   "cell_type": "code",
   "execution_count": null,
   "id": "12eaacc3",
   "metadata": {},
   "outputs": [],
   "source": [
    "# Check nulls\n",
    "df.isnull().sum()\n"
   ]
  },
  {
   "cell_type": "code",
   "execution_count": null,
   "id": "1b1a4362",
   "metadata": {},
   "outputs": [],
   "source": [
    "# Correlation heatmap\n",
    "plt.figure(figsize=(12, 8))\n",
    "sns.heatmap(df.corr(), annot=True, cmap='coolwarm')\n",
    "plt.title(\"Correlation Heatmap\")\n",
    "plt.show()\n"
   ]
  },
  {
   "cell_type": "code",
   "execution_count": null,
   "id": "203b2e74",
   "metadata": {},
   "outputs": [],
   "source": [
    "# Distribution of target\n",
    "sns.histplot(df['target'], bins=40, kde=True)\n",
    "plt.title(\"Distribution of House Values\")\n",
    "plt.show()\n"
   ]
  },
  {
   "cell_type": "markdown",
   "id": "1a06b864",
   "metadata": {},
   "source": [
    "## 📊 Linear Regression Model"
   ]
  },
  {
   "cell_type": "code",
   "execution_count": null,
   "id": "402cbf89",
   "metadata": {},
   "outputs": [],
   "source": [
    "X = df.drop('target', axis=1)\n",
    "y = df['target']\n",
    "X_train, X_test, y_train, y_test = train_test_split(X, y, test_size=0.2, random_state=42)\n",
    "\n",
    "lr = LinearRegression()\n",
    "lr.fit(X_train, y_train)\n",
    "y_pred_lr = lr.predict(X_test)\n",
    "\n",
    "print(f\"Linear Regression R²: {r2_score(y_test, y_pred_lr):.2f}\")\n",
    "print(f\"Linear Regression RMSE: {mean_squared_error(y_test, y_pred_lr, squared=False):.2f}\")\n"
   ]
  },
  {
   "cell_type": "code",
   "execution_count": null,
   "id": "e3664eab",
   "metadata": {},
   "outputs": [],
   "source": [
    "# Linear regression actual vs predicted\n",
    "sns.scatterplot(x=y_test, y=y_pred_lr, alpha=0.4)\n",
    "plt.xlabel(\"Actual\")\n",
    "plt.ylabel(\"Predicted\")\n",
    "plt.title(\"Linear Regression: Actual vs Predicted\")\n",
    "plt.show()\n"
   ]
  },
  {
   "cell_type": "markdown",
   "id": "9a0d58f9",
   "metadata": {},
   "source": [
    "## 🌲 Random Forest Regressor"
   ]
  },
  {
   "cell_type": "code",
   "execution_count": null,
   "id": "1032df33",
   "metadata": {},
   "outputs": [],
   "source": [
    "rf = RandomForestRegressor(n_estimators=100, random_state=42)\n",
    "rf.fit(X_train, y_train)\n",
    "y_pred_rf = rf.predict(X_test)\n",
    "\n",
    "print(f\"Random Forest R²: {r2_score(y_test, y_pred_rf):.2f}\")\n",
    "print(f\"Random Forest RMSE: {mean_squared_error(y_test, y_pred_rf, squared=False):.2f}\")\n"
   ]
  },
  {
   "cell_type": "code",
   "execution_count": null,
   "id": "8dd451e3",
   "metadata": {},
   "outputs": [],
   "source": [
    "# RF actual vs predicted\n",
    "sns.scatterplot(x=y_test, y=y_pred_rf, alpha=0.4)\n",
    "plt.plot([0, 5], [0, 5], 'r--')\n",
    "plt.xlabel(\"Actual\")\n",
    "plt.ylabel(\"Predicted\")\n",
    "plt.title(\"Random Forest: Actual vs Predicted\")\n",
    "plt.show()\n"
   ]
  },
  {
   "cell_type": "code",
   "execution_count": null,
   "id": "f7aa13f3",
   "metadata": {},
   "outputs": [],
   "source": [
    "# Feature importance\n",
    "importances = rf.feature_importances_\n",
    "features = X.columns\n",
    "importance_df = pd.DataFrame({'Feature': features, 'Importance': importances}).sort_values(by='Importance', ascending=False)\n",
    "\n",
    "sns.barplot(x='Importance', y='Feature', data=importance_df)\n",
    "plt.title(\"Feature Importance from Random Forest\")\n",
    "plt.show()\n"
   ]
  },
  {
   "cell_type": "markdown",
   "id": "05c4074c",
   "metadata": {},
   "source": [
    "## ✅ Summary\n",
    "- Random Forest outperformed Linear Regression\n",
    "- `MedInc` was the most important feature\n",
    "- Predictions were better aligned with actual values\n",
    "- Further improvement can be done via hyperparameter tuning and advanced feature engineering."
   ]
  }
 ],
 "metadata": {},
 "nbformat": 4,
 "nbformat_minor": 5
}
